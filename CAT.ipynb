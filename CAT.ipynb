{
 "cells": [
  {
   "cell_type": "markdown",
   "metadata": {},
   "source": [
    "# Import dependencies, get CAT data"
   ]
  },
  {
   "cell_type": "code",
   "execution_count": null,
   "metadata": {},
   "outputs": [],
   "source": [
    "# Run this code as is\n",
    "\n",
    "# Imports\n",
    "import datetime as dt\n",
    "import requests, pdfplumber, io, warnings\n",
    "import pandas as pd\n",
    "import yfinance as yf\n",
    "import matplotlib.pyplot as plt\n",
    "import numpy as np\n",
    "\n",
    "# Download all CAT pdfs, compile in DataFrame\n",
    "current_year = dt.datetime.now().year\n",
    "years = list(range(2020, current_year + 1))\n",
    "months = [f\"{i:02}\" for i in range(1, 13)]\n",
    "days = [f\"{i:02}\" for i in range(1, 32)]\n",
    "\n",
    "pre_link = \"https://catnmsplan.com//sites//default//files//\"\n",
    "post_link = \"-Monthly-CAT-Update.pdf\"\n",
    "\n",
    "raw_CAT  = []\n",
    "\n",
    "bad_date_urls = ['https://catnmsplan.com//sites//default//files//2022-02//02.16.22-Monthly-CAT-Update.pdf',\n",
    "                 'https://catnmsplan.com//sites//default//files//2022-03//03.16.22-Monthly-CAT-Update.pdf',\n",
    "                 'https://catnmsplan.com//sites//default//files//2022-04//04.20.22-Monthly-CAT-Update.pdf',\n",
    "                 'https://catnmsplan.com//sites//default//files//2022-09//09.27.22-Monthly-CAT-Update.pdf',\n",
    "                 'https://catnmsplan.com//sites//default//files//2023-08//08.17.23-Monthly-CAT-Update.pdf']\n",
    "\n",
    "# Loop through all possible reporting dates and create links\n",
    "warnings.simplefilter(action='ignore', category=FutureWarning)\n",
    "for year in years:\n",
    "    for month in months:\n",
    "        for day in days:\n",
    "            url = pre_link + str(year) + \"-\" + str(month) + \"//\" + str(month) + \".\" + str(day) + \".\" + str(year)[-2:] + post_link\n",
    "\n",
    "            # download data (exclude bad dates - formatting is wrong for some reason)\n",
    "            if url not in bad_date_urls:\n",
    "\n",
    "                response = requests.get(url, allow_redirects=False)\n",
    "                if response.status_code == 200:\n",
    "                    pdf_file = io.BytesIO(response.content)\n",
    "                    with pdfplumber.open(pdf_file) as pdf:\n",
    "                        # Loop through last 4 pages and extract text\n",
    "                        total_pages = len(pdf.pages)\n",
    "                        last_pages = pdf.pages[-4:-2]\n",
    "                        for page_number, page in enumerate(last_pages, start=total_pages - len(last_pages)):\n",
    "                            text = page.extract_text()\n",
    "                            lines = text.strip().split('\\n')\n",
    "                            header = [\"Trade Date\", \"Processed\", \"Accepted\", \"Late\", \"Overall Errors Count\"]\n",
    "                            data = [line.split() for line in lines[2:]]\n",
    "                            data = data[1:-1]\n",
    "                            df = pd.DataFrame(data, columns=header)\n",
    "                            df = df.replace({',': ''}, regex=True)\n",
    "                            df = df.apply(pd.to_numeric, errors='ignore')\n",
    "                            raw_CAT.append(df)\n",
    "raw_CAT_all = pd.concat(raw_CAT, ignore_index=True)\n",
    "raw_CAT_all['Date'] = pd.to_datetime(raw_CAT_all['Trade Date'])\n",
    "raw_CAT_all.set_index('Date', inplace=True)\n",
    "raw_CAT_all.drop('Trade Date', axis=1, inplace=True)\n",
    "full_range = pd.date_range(start=raw_CAT_all.index.min(), end=raw_CAT_all.index.max())\n",
    "raw_CAT_all = raw_CAT_all.reindex(full_range)\n",
    "warnings.resetwarnings()"
   ]
  },
  {
   "cell_type": "markdown",
   "metadata": {},
   "source": [
    "# Choose stock ticker for comparison"
   ]
  },
  {
   "cell_type": "code",
   "execution_count": null,
   "metadata": {},
   "outputs": [],
   "source": [
    "# Choose stock ticker, then run code\n",
    "\n",
    "###\n",
    "symbol = \"GME\"\n",
    "### \n",
    "\n",
    "start_date = raw_CAT_all.index[0].strftime('%Y-%m-%d')\n",
    "end_date = raw_CAT_all.index[-1].strftime('%Y-%m-%d')\n",
    "dates = raw_CAT_all.index\n",
    "stock_data = yf.download(symbol, start=start_date, end=end_date, progress=False)\n",
    "filtered_data = stock_data.loc[stock_data.index.isin(dates)]\n",
    "high_prices = filtered_data['High']\n"
   ]
  },
  {
   "cell_type": "markdown",
   "metadata": {},
   "source": [
    "# Plot comparison"
   ]
  },
  {
   "cell_type": "code",
   "execution_count": null,
   "metadata": {},
   "outputs": [],
   "source": [
    "# Run this code as is\n",
    "\n",
    "# Plot comparison\n",
    "fig, ax1 = plt.subplots()\n",
    "line1, = ax1.plot(raw_CAT_all['Overall Errors Count'], \"m-\", label=\"Errors\")\n",
    "ax1.set_ylabel(\"Overall Errors Count (in billions)\")\n",
    "\n",
    "ax2 = ax1.twinx()\n",
    "line2, = ax2.plot(high_prices, \"c-\", label=str(symbol)+\" Daily High\")\n",
    "ax2.set_ylabel(str(symbol)+\" Daily High ($)\")\n",
    "\n",
    "for label in ax1.get_xticklabels():\n",
    "    label.set_rotation(45)\n",
    "\n",
    "lines = [line1, line2]\n",
    "labels = [line.get_label() for line in lines]\n",
    "ax1.legend(lines, labels, loc='upper left')\n",
    "\n",
    "plt.title(\"CAT Equity Errors and \" + str(symbol) + \" Daily High\")\n",
    "plt.show()"
   ]
  },
  {
   "cell_type": "markdown",
   "metadata": {},
   "source": [
    "# Plot cross-correlation (+/- 365 days)"
   ]
  },
  {
   "cell_type": "code",
   "execution_count": null,
   "metadata": {},
   "outputs": [],
   "source": [
    "# Run this code as is (or change max lag)\n",
    "\n",
    "# Cross-correlation and plot\n",
    "common_dates = raw_CAT_all.index.intersection(high_prices.index)\n",
    "filtered_raw_CAT_all = raw_CAT_all.loc[common_dates]\n",
    "\n",
    "max_lag = 365 \n",
    "lags = np.arange(-max_lag, max_lag + 1)\n",
    "\n",
    "cross_corr = []\n",
    "for lag in lags:\n",
    "    shifted_ts2 = high_prices.shift(lag)\n",
    "    valid_pairs = pd.concat([filtered_raw_CAT_all['Overall Errors Count'], shifted_ts2], axis=1).dropna()\n",
    "    if len(valid_pairs) > 0:\n",
    "        correlation = valid_pairs.iloc[:, 0].corr(valid_pairs.iloc[:, 1])\n",
    "    else:\n",
    "        correlation = np.nan\n",
    "    \n",
    "    cross_corr.append(correlation)\n",
    "\n",
    "cross_corr = pd.Series(cross_corr, index=lags)\n",
    "top_3_indices = cross_corr.abs().nlargest(1).index\n",
    "\n",
    "# Plot\n",
    "plt.plot(lags, cross_corr)\n",
    "plt.xlabel('Lag (days)')\n",
    "plt.ylabel('Cross-Correlation')\n",
    "plt.title('Cross-Correlation between CAT Errors and GME Daily High')\n",
    "\n",
    "xlim = plt.xlim()\n",
    "ylim = plt.ylim()\n",
    "\n",
    "for index in top_3_indices:\n",
    "    # Adjust annotation position to stay within plot limits\n",
    "    x_pos = index\n",
    "    y_pos = cross_corr[index]\n",
    "    \n",
    "    # Avoid annotations going outside the plot\n",
    "    if y_pos + 0.05 * np.sign(y_pos) > ylim[1]:\n",
    "        y_text = ylim[1] - 0.1\n",
    "    elif y_pos + 0.05 * np.sign(y_pos) < ylim[0]:\n",
    "        y_text = ylim[0] + 0.1\n",
    "    else:\n",
    "        y_text = y_pos + 0.05 * np.sign(y_pos)\n",
    "    \n",
    "    plt.annotate(f'Lag: {index}', \n",
    "                 xy=(x_pos, y_pos), \n",
    "                 xytext=(x_pos, y_text),\n",
    "                 arrowprops=dict(facecolor='black', arrowstyle='->'),\n",
    "                 ha='center',\n",
    "                 fontsize=8,\n",
    "                 bbox=dict(boxstyle=\"round,pad=0.3\", edgecolor='black', facecolor='white'))\n",
    "\n",
    "plt.show()"
   ]
  },
  {
   "cell_type": "markdown",
   "metadata": {},
   "source": [
    "# Plot comparison with lag"
   ]
  },
  {
   "cell_type": "code",
   "execution_count": null,
   "metadata": {},
   "outputs": [],
   "source": [
    "# Choose lag (see cross-correlation), then run code\n",
    "\n",
    "###\n",
    "lag = -140\n",
    "###\n",
    "\n",
    "fig, ax1 = plt.subplots()\n",
    "line1, = ax1.plot(raw_CAT_all['Overall Errors Count'], \"m-\", label=\"Errors\")\n",
    "ax1.set_ylabel(\"Overall Errors Count (in billions)\")\n",
    "\n",
    "ax1.set_xticklabels([])\n",
    "\n",
    "ax2 = ax1.twinx()\n",
    "line2, = ax2.plot(high_prices.shift(lag), \"c-\", label=str(symbol)+\" Daily High (Shifted)\")\n",
    "ax2.set_ylabel(str(symbol)+\" Daily High ($)\")\n",
    "\n",
    "for label in ax1.get_xticklabels():\n",
    "    label.set_rotation(45)\n",
    "\n",
    "lines = [line1, line2]\n",
    "labels = [line.get_label() for line in lines]\n",
    "ax1.legend(lines, labels, loc='upper left')\n",
    "\n",
    "plt.title(\"CAT Equity Errors and \" + str(symbol) + \" Daily High (Shifted -140 Days)\")\n",
    "plt.show()"
   ]
  },
  {
   "cell_type": "markdown",
   "metadata": {},
   "source": [
    "# View max CAT error dates, find future trading dates"
   ]
  },
  {
   "cell_type": "code",
   "execution_count": null,
   "metadata": {},
   "outputs": [],
   "source": [
    "# Max errors\n",
    "raw_CAT_all[\"Overall Errors Count\"].nlargest(5)"
   ]
  },
  {
   "cell_type": "code",
   "execution_count": null,
   "metadata": {},
   "outputs": [],
   "source": [
    "# Get future dates\n",
    "start_date = '2022-07-13'\n",
    "days_ahead = 140\n",
    "\n",
    "trading_days = pd.bdate_range(start='2022-01-01', end='2027-12-31')\n",
    "start_date = pd.Timestamp(start_date)\n",
    "print(trading_days[trading_days.get_loc(pd.Timestamp(start_date)) + days_ahead])"
   ]
  }
 ],
 "metadata": {
  "kernelspec": {
   "display_name": "Python 3",
   "language": "python",
   "name": "python3"
  },
  "language_info": {
   "codemirror_mode": {
    "name": "ipython",
    "version": 3
   },
   "file_extension": ".py",
   "mimetype": "text/x-python",
   "name": "python",
   "nbconvert_exporter": "python",
   "pygments_lexer": "ipython3",
   "version": "3.12.0"
  }
 },
 "nbformat": 4,
 "nbformat_minor": 2
}
